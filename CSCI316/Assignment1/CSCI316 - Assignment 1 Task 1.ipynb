{
 "cells": [
  {
   "cell_type": "code",
   "execution_count": 1,
   "id": "9d75d01f",
   "metadata": {},
   "outputs": [
    {
     "name": "stdout",
     "output_type": "stream",
     "text": [
      "   age          workclass  fnlwgt   education  education-num  \\\n",
      "0   39          State-gov   77516   Bachelors             13   \n",
      "1   50   Self-emp-not-inc   83311   Bachelors             13   \n",
      "2   38            Private  215646     HS-grad              9   \n",
      "3   53            Private  234721        11th              7   \n",
      "4   28            Private  338409   Bachelors             13   \n",
      "\n",
      "        marital-status          occupation    relationship    race      sex  \\\n",
      "0        Never-married        Adm-clerical   Not-in-family   White     Male   \n",
      "1   Married-civ-spouse     Exec-managerial         Husband   White     Male   \n",
      "2             Divorced   Handlers-cleaners   Not-in-family   White     Male   \n",
      "3   Married-civ-spouse   Handlers-cleaners         Husband   Black     Male   \n",
      "4   Married-civ-spouse      Prof-specialty            Wife   Black   Female   \n",
      "\n",
      "   capital-gain  capital-loss  hours-per-week  native-country income (class)  \n",
      "0          2174             0              40   United-States          <=50K  \n",
      "1             0             0              13   United-States          <=50K  \n",
      "2             0             0              40   United-States          <=50K  \n",
      "3             0             0              40   United-States          <=50K  \n",
      "4             0             0              40            Cuba          <=50K  \n",
      "age                int64\n",
      "workclass         object\n",
      "fnlwgt             int64\n",
      "education         object\n",
      "education-num      int64\n",
      "marital-status    object\n",
      "occupation        object\n",
      "relationship      object\n",
      "race              object\n",
      "sex               object\n",
      "capital-gain       int64\n",
      "capital-loss       int64\n",
      "hours-per-week     int64\n",
      "native-country    object\n",
      "income (class)    object\n",
      "dtype: object\n",
      "age               0\n",
      "workclass         0\n",
      "fnlwgt            0\n",
      "education         0\n",
      "education-num     0\n",
      "marital-status    0\n",
      "occupation        0\n",
      "relationship      0\n",
      "race              0\n",
      "sex               0\n",
      "capital-gain      0\n",
      "capital-loss      0\n",
      "hours-per-week    0\n",
      "native-country    0\n",
      "income (class)    0\n",
      "dtype: int64\n"
     ]
    }
   ],
   "source": [
    "# Import libraries\n",
    "import pandas as pd\n",
    "\n",
    "# Load the dataset with specified column names\n",
    "column_names = ['age', 'workclass', 'fnlwgt', 'education', 'education-num', 'marital-status', 'occupation', 'relationship', 'race', 'sex', 'capital-gain', 'capital-loss', 'hours-per-week', 'native-country', 'income (class)']\n",
    "df = pd.read_csv('adult.data', names=column_names)\n",
    "\n",
    "# View the first few rows of the dataset\n",
    "print(df.head())\n",
    "\n",
    "# Check the data types of the columns\n",
    "print(df.dtypes)\n",
    "\n",
    "# Check for missing values\n",
    "print(df.isnull().sum())\n",
    "\n",
    "# Handle missing values\n",
    "df = df.fillna(0)  # Fill missing values with 0\n",
    "\n",
    "# Handle invalid data\n",
    "df = df.replace(-1, 0)  # Replace invalid values (-1) with 0"
   ]
  },
  {
   "cell_type": "code",
   "execution_count": 2,
   "id": "7d010a8a",
   "metadata": {},
   "outputs": [
    {
     "name": "stdout",
     "output_type": "stream",
     "text": [
      "1.4838888864496425e-17\n",
      "1.0000000000000004\n"
     ]
    }
   ],
   "source": [
    "# Normalize the capital-gain column\n",
    "df['capital-gain'] = (df['capital-gain'] - df['capital-gain'].mean()) / df['capital-gain'].std()\n",
    "\n",
    "# Print the mean and variance of the normalized values\n",
    "print(df['capital-gain'].mean())\n",
    "print(df['capital-gain'].var())"
   ]
  },
  {
   "cell_type": "code",
   "execution_count": 3,
   "id": "0bfce177",
   "metadata": {},
   "outputs": [
    {
     "name": "stdout",
     "output_type": "stream",
     "text": [
      "(16.999, 26.0]    7196\n",
      "(33.0, 41.0]      6763\n",
      "(50.0, 90.0]      6460\n",
      "(41.0, 50.0]      6175\n",
      "(26.0, 33.0]      5967\n",
      "Name: age, dtype: int64\n"
     ]
    }
   ],
   "source": [
    "# Create the bins\n",
    "bins = pd.qcut(df['age'], 5)\n",
    "\n",
    "# Print the bin counts\n",
    "print(bins.value_counts())"
   ]
  },
  {
   "cell_type": "code",
   "execution_count": 4,
   "id": "10a884cc",
   "metadata": {},
   "outputs": [],
   "source": [
    "# One-hot encode the workclass attribute\n",
    "workclass_dummies = pd.get_dummies(df['workclass'])\n",
    "\n",
    "# Add the encoded columns to the original dataframe\n",
    "df = pd.concat([df, workclass_dummies], axis=1)\n",
    "\n",
    "# Drop the original workclass column\n",
    "df = df.drop('workclass', axis=1)"
   ]
  },
  {
   "cell_type": "code",
   "execution_count": 5,
   "id": "460f74cd",
   "metadata": {},
   "outputs": [],
   "source": [
    "# One new attribute that could be defined based on the existing attributes is the education_level attribute.\n",
    "# This attribute could be created by combining the education and education-num attributes.\n",
    "\n",
    "# The education attribute provides the name of the highest educational degree that an individual has completed \n",
    "# (e.g., Bachelors, Masters, Doctorate), while the education-num attribute provides the number of years of \n",
    "# education that an individual has completed. \n",
    "\n",
    "# With this new attribute, it can provide a more detailed insight about an individual's education level. \n",
    "# For example, an individual who has completed a Bachelors degree might have a different education level than\n",
    "# someone who has completed a Masters degree, even if they have completed the same number of years of education."
   ]
  },
  {
   "cell_type": "code",
   "execution_count": 6,
   "id": "847c2cdf",
   "metadata": {},
   "outputs": [
    {
     "name": "stdout",
     "output_type": "stream",
     "text": [
      "hours-per-week    1.000000\n",
      "education-num     0.148123\n",
      "capital-gain      0.078409\n",
      "age               0.068756\n",
      "capital-loss      0.054256\n",
      "fnlwgt           -0.018768\n",
      "Name: hours-per-week, dtype: float64\n"
     ]
    }
   ],
   "source": [
    "# Select only the continuous attributes\n",
    "df_cont = df.select_dtypes(include=['float64', 'int64'])\n",
    "\n",
    "# Calculate the correlations\n",
    "corr_matrix = df_cont.corr()\n",
    "\n",
    "# Print the correlations with the hours-per-week attribute\n",
    "print(corr_matrix['hours-per-week'].sort_values(ascending=False))"
   ]
  }
 ],
 "metadata": {
  "kernelspec": {
   "display_name": "Python 3 (ipykernel)",
   "language": "python",
   "name": "python3"
  },
  "language_info": {
   "codemirror_mode": {
    "name": "ipython",
    "version": 3
   },
   "file_extension": ".py",
   "mimetype": "text/x-python",
   "name": "python",
   "nbconvert_exporter": "python",
   "pygments_lexer": "ipython3",
   "version": "3.9.15"
  }
 },
 "nbformat": 4,
 "nbformat_minor": 5
}
